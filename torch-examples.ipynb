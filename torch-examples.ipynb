{
 "cells": [
  {
   "cell_type": "code",
   "execution_count": 12,
   "id": "3e3f01ed-d0ea-4054-b764-f67b07006a39",
   "metadata": {},
   "outputs": [
    {
     "name": "stdout",
     "output_type": "stream",
     "text": [
      "cuda\n"
     ]
    }
   ],
   "source": [
    "import torch\n",
    "import numpy as np\n",
    "import time\n",
    "device='cuda' if torch.cuda.is_available() else 'cpu'\n",
    "print(device)"
   ]
  },
  {
   "cell_type": "code",
   "execution_count": 37,
   "id": "7134cedb-72f9-425e-b615-8956198dff49",
   "metadata": {},
   "outputs": [
    {
     "name": "stdout",
     "output_type": "stream",
     "text": [
      "1.1357390881\n"
     ]
    }
   ],
   "source": [
    "start_time=time.time()\n",
    "# matrix opertions done here\n",
    "zeros=torch.zeros(1,1)\n",
    "end_time=time.time()\n",
    "\n",
    "elapsed_time=end_time-start_time\n",
    "print(f\"{elapsed_time:.10f}\")"
   ]
  },
  {
   "cell_type": "code",
   "execution_count": 19,
   "id": "9190ee8b-affc-4b7e-90be-f22cb760385b",
   "metadata": {},
   "outputs": [
    {
     "name": "stdout",
     "output_type": "stream",
     "text": [
      "0.00000000\n",
      "CPU times: total: 0 ns\n",
      "Wall time: 0 ns\n"
     ]
    }
   ],
   "source": [
    "%%time\n",
    "start_time = time.time()\n",
    "# matrix operations here\n",
    "zeros = torch.zeros(1, 1)\n",
    "end_time = time.time()\n",
    "\n",
    "elapsed_time = end_time - start_time\n",
    "print(f\"{elapsed_time:.8f}\")\n"
   ]
  },
  {
   "cell_type": "code",
   "execution_count": 18,
   "id": "903a1f21-fbc9-4c5a-af54-9e9de070056f",
   "metadata": {},
   "outputs": [
    {
     "name": "stdout",
     "output_type": "stream",
     "text": [
      "0.02493405\n",
      "0.11668873\n"
     ]
    }
   ],
   "source": [
    "torch_rand1 = torch.rand(100, 100, 100, 100).to(device)\n",
    "torch_rand2 = torch.rand(100, 100, 100, 100).to(device)\n",
    "np_rand1 = torch.rand(100, 100, 100, 100)\n",
    "np_rand2 = torch.rand(100, 100, 100, 100)\n",
    "\n",
    "start_time = time.time()\n",
    "\n",
    "rand = (torch_rand1 @ torch_rand2)\n",
    "\n",
    "end_time = time.time()\n",
    "\n",
    "elapsed_time = end_time - start_time\n",
    "print(f\"{elapsed_time:.8f}\")\n",
    "\n",
    "\n",
    "start_time = time.time()\n",
    "\n",
    "rand = np.multiply(np_rand1, np_rand2)\n",
    "end_time = time.time()\n",
    "elapsed_time = end_time - start_time\n",
    "print(f\"{elapsed_time:.8f}\")"
   ]
  },
  {
   "cell_type": "code",
   "execution_count": 24,
   "id": "38588f56-a168-48c4-96b5-34b74bd7963e",
   "metadata": {},
   "outputs": [
    {
     "name": "stdout",
     "output_type": "stream",
     "text": [
      "tensor([1, 0, 1, 1, 1, 1, 1, 1, 1, 1])\n"
     ]
    }
   ],
   "source": [
    "# embeddings, torch.stack, torch.multinomial, torch.tril, torch.triu, input.T / input.transpose, nn.Linear, torch.cat, F.softmax (show all the examples of functions/methods with pytorch docs)\n",
    "\n",
    "\n",
    "# Define a probability tensor\n",
    "probabilities = torch.tensor([0.1, 0.9])\n",
    "# 10% or 0.1 => 0, 90% or 0.9 => 1. each probability points to the index of the probability in the tensor\n",
    "# Draw 5 samples from the multinomial distribution\n",
    "samples = torch.multinomial(probabilities, num_samples=10, replacement=True)\n",
    "print(samples)\n"
   ]
  },
  {
   "cell_type": "code",
   "execution_count": 25,
   "id": "fa5c2615-30fd-4f47-b011-fc0f3105f09c",
   "metadata": {},
   "outputs": [
    {
     "data": {
      "text/plain": [
       "tensor([1, 2, 3, 4, 5])"
      ]
     },
     "execution_count": 25,
     "metadata": {},
     "output_type": "execute_result"
    }
   ],
   "source": [
    "tensor = torch.tensor([1, 2, 3, 4])\n",
    "out = torch.cat((tensor, torch.tensor([5])), dim=0)\n",
    "out"
   ]
  },
  {
   "cell_type": "code",
   "execution_count": 34,
   "id": "9b69595b-93d3-471f-a5ad-bd74ac6d312f",
   "metadata": {},
   "outputs": [
    {
     "data": {
      "text/plain": [
       "tensor([[1., 0., 0., 0., 0.],\n",
       "        [1., 1., 0., 0., 0.],\n",
       "        [1., 1., 1., 0., 0.],\n",
       "        [1., 1., 1., 1., 0.],\n",
       "        [1., 1., 1., 1., 1.]])"
      ]
     },
     "execution_count": 34,
     "metadata": {},
     "output_type": "execute_result"
    }
   ],
   "source": [
    "out = torch.tril(torch.ones(5, 5))\n",
    "out\n",
    "#left Identity tirangle\n",
    "# talking to history what are the future predictions"
   ]
  },
  {
   "cell_type": "code",
   "execution_count": 35,
   "id": "a95d2bea-7efc-4f60-bbcc-d8550194d0e7",
   "metadata": {},
   "outputs": [
    {
     "data": {
      "text/plain": [
       "tensor([[1., 1., 1., 1., 1.],\n",
       "        [0., 1., 1., 1., 1.],\n",
       "        [0., 0., 1., 1., 1.],\n",
       "        [0., 0., 0., 1., 1.],\n",
       "        [0., 0., 0., 0., 1.]])"
      ]
     },
     "execution_count": 35,
     "metadata": {},
     "output_type": "execute_result"
    }
   ],
   "source": [
    "out = torch.triu(torch.ones(5, 5))\n",
    "out\n",
    "# right upper  identity triangle\n",
    "#\n"
   ]
  },
  {
   "cell_type": "code",
   "execution_count": 36,
   "id": "8876153a-ec94-41e4-80ab-fbe5a98fb162",
   "metadata": {},
   "outputs": [
    {
     "data": {
      "text/plain": [
       "tensor([[0., -inf, -inf, -inf, -inf],\n",
       "        [0., 0., -inf, -inf, -inf],\n",
       "        [0., 0., 0., -inf, -inf],\n",
       "        [0., 0., 0., 0., -inf],\n",
       "        [0., 0., 0., 0., 0.]])"
      ]
     },
     "execution_count": 36,
     "metadata": {},
     "output_type": "execute_result"
    }
   ],
   "source": [
    "out = torch.zeros(5, 5).masked_fill(torch.tril(torch.ones(5, 5)) == 0, float('-inf'))\n",
    "out\n",
    "# basically we are calculating the powers like o^1 if 0 and if 1^-inf=0"
   ]
  },
  {
   "cell_type": "code",
   "execution_count": 29,
   "id": "746d7254-0fad-4fcb-be51-ee61b2f75b28",
   "metadata": {},
   "outputs": [
    {
     "data": {
      "text/plain": [
       "tensor([[1., 0., 0., 0., 0.],\n",
       "        [1., 1., 0., 0., 0.],\n",
       "        [1., 1., 1., 0., 0.],\n",
       "        [1., 1., 1., 1., 0.],\n",
       "        [1., 1., 1., 1., 1.]])"
      ]
     },
     "execution_count": 29,
     "metadata": {},
     "output_type": "execute_result"
    }
   ],
   "source": [
    "torch.exp(out)"
   ]
  },
  {
   "cell_type": "code",
   "execution_count": 30,
   "id": "1c7c7d3f-12f7-4e97-93a7-79d7a72dfa53",
   "metadata": {},
   "outputs": [
    {
     "name": "stdout",
     "output_type": "stream",
     "text": [
      "torch.Size([3, 2, 4])\n",
      "torch.Size([2, 4, 3])\n"
     ]
    }
   ],
   "source": [
    "input = torch.zeros(2, 3, 4)\n",
    "out1 = input.transpose(0, 1)\n",
    "out2 = input.transpose(-2,-1)\n",
    "print(out1.shape)\n",
    "print(out2.shape)\n",
    "# torch.permute works the same but you provide the new order of dimensions instead of the dimensions you'd like to swap."
   ]
  },
  {
   "cell_type": "code",
   "execution_count": 38,
   "id": "2bbd81be-62cd-4cdd-aaff-651e490867fd",
   "metadata": {},
   "outputs": [
    {
     "data": {
      "text/plain": [
       "tensor([[1, 2, 3],\n",
       "        [4, 5, 6],\n",
       "        [7, 8, 9]])"
      ]
     },
     "execution_count": 38,
     "metadata": {},
     "output_type": "execute_result"
    }
   ],
   "source": [
    "tensor1 = torch.tensor([1, 2, 3])\n",
    "tensor2 = torch.tensor([4, 5, 6])\n",
    "tensor3 = torch.tensor([7, 8, 9])\n",
    "\n",
    "# Stack the tensors along a new dimension\n",
    "stacked_tensor = torch.stack([tensor1, tensor2, tensor3])\n",
    "stacked_tensor\n"
   ]
  },
  {
   "cell_type": "code",
   "execution_count": 44,
   "id": "7b994344-11c8-4adb-8e94-8427e54a41d8",
   "metadata": {},
   "outputs": [
    {
     "name": "stdout",
     "output_type": "stream",
     "text": [
      "tensor([  3.8187,  -1.4978, -11.9467], grad_fn=<SqueezeBackward4>)\n"
     ]
    }
   ],
   "source": [
    "import torch.nn as nn\n",
    "# nn layer is the way to give prameters and they are learnable if passed with nn\n",
    "sample=torch.tensor([10.,10.,10.])\n",
    "# we will use this for learning the keys, queries and values in transformers first layer\n",
    "linear=nn.Linear(3,3,bias=False)\n",
    "print(linear(sample)) "
   ]
  },
  {
   "cell_type": "code",
   "execution_count": 48,
   "id": "980dda24-a1af-4949-8985-e4732deba003",
   "metadata": {},
   "outputs": [
    {
     "name": "stdout",
     "output_type": "stream",
     "text": [
      "tensor([0.0900, 0.2447, 0.6652])\n"
     ]
    }
   ],
   "source": [
    "import torch.nn.functional as F # for all the activation function we need this\n",
    "#create tensor to work with\n",
    "t1=torch.tensor([1.0,2.0,3.0])\n",
    "softmax_output=F.softmax(t1,dim=0) #use the softmax with only tensor needed\n",
    "print(softmax_output)\n"
   ]
  },
  {
   "cell_type": "code",
   "execution_count": 53,
   "id": "dc7e83b6-4660-4b68-af5c-c150a94265fa",
   "metadata": {},
   "outputs": [
    {
     "name": "stdout",
     "output_type": "stream",
     "text": [
      "torch.Size([3, 10])\n",
      "tensor([[-1.9152,  1.4207, -0.1508,  1.0636, -0.9882,  0.0530, -0.0073, -0.3555,\n",
      "          0.2112, -2.4129],\n",
      "        [ 0.7260,  1.0625, -0.1664,  0.7667, -1.0894,  0.3828, -0.4461, -1.0813,\n",
      "         -0.2224,  0.8658],\n",
      "        [-0.8085, -0.3144,  1.0027,  0.6413, -1.0144, -0.4999, -1.1239,  0.2259,\n",
      "          0.2569, -1.2042]], grad_fn=<EmbeddingBackward0>)\n"
     ]
    }
   ],
   "source": [
    "# Initialize an embedding layer\n",
    "vocab_size = 1000\n",
    "embedding_dim = 10\n",
    "embedding = nn.Embedding(vocab_size, embedding_dim)\n",
    "\n",
    "# Create some input indices\n",
    "input_indices = torch.LongTensor([1, 5, 3])\n",
    "\n",
    "# Apply the embedding layer\n",
    "embedded_output = embedding(input_indices)\n",
    "\n",
    "# The output will be a tensor of shape (4, 100), where 4 is the number of inputs\n",
    "# and 100 is the dimensionality of the embedding vectors\n",
    "print(embedded_output.shape)\n",
    "print(embedded_output)\n"
   ]
  },
  {
   "cell_type": "code",
   "execution_count": 62,
   "id": "d4147441-03fd-4811-b139-4975edfd061f",
   "metadata": {},
   "outputs": [
    {
     "name": "stdout",
     "output_type": "stream",
     "text": [
      "tensor([[ 27,  30,  33],\n",
      "        [ 61,  68,  75],\n",
      "        [ 95, 106, 117]])\n",
      "tensor([[ 27,  30,  33],\n",
      "        [ 61,  68,  75],\n",
      "        [ 95, 106, 117]])\n"
     ]
    }
   ],
   "source": [
    "a = torch.tensor([[1,2],[3,4],[5,6]])\n",
    "b = torch.tensor([[7,8,9],[10,11,12]])\n",
    "print(a @ b)\n",
    "print(torch.matmul(a, b))"
   ]
  },
  {
   "cell_type": "code",
   "execution_count": 70,
   "id": "cb3fa086-7f12-4bb2-8d47-b06867687773",
   "metadata": {},
   "outputs": [
    {
     "name": "stdout",
     "output_type": "stream",
     "text": [
      "torch.float32 torch.float32\n",
      "tensor([[0., 0., 0.],\n",
      "        [0., 0., 0.],\n",
      "        [0., 0., 0.]])\n"
     ]
    }
   ],
   "source": [
    "int_64 = torch.randint(1, (3, 2)).float()\n",
    "#type int64\n",
    "float_32 = torch.rand(2,3)\n",
    "#type float32\n",
    "print(int_64.dtype, float_32.dtype)\n",
    "result = torch.matmul(int_64, float_32)\n",
    "print(result)"
   ]
  },
  {
   "cell_type": "code",
   "execution_count": 73,
   "id": "097a206c-d2c3-4246-99a7-5906194df491",
   "metadata": {},
   "outputs": [
    {
     "name": "stdout",
     "output_type": "stream",
     "text": [
      "torch.Size([2, 3, 5])\n",
      "2 3 5\n",
      "torch.Size([2, 3, 5])\n"
     ]
    }
   ],
   "source": [
    "a=torch.rand(2,3,5)\n",
    "print(a.shape)\n",
    "x,y,z=a.shape\n",
    "a=a.view(x,y,z)\n",
    "print(x,y,z)\n",
    "print(a.shape)"
   ]
  },
  {
   "cell_type": "code",
   "execution_count": 57,
   "id": "1745768b-358c-4ed3-8025-085484e1469b",
   "metadata": {},
   "outputs": [],
   "source": [
    "#randint=torch.randint(-100,100,(6,))\n",
    "#randint"
   ]
  },
  {
   "cell_type": "code",
   "execution_count": 23,
   "id": "f1ae6bbf-0217-4331-8389-396d0d0cdc7b",
   "metadata": {
    "scrolled": true
   },
   "outputs": [],
   "source": [
    "# tensor=torch.tensor([[0.1,1.2],[2.2,3.1],[5.1,8.4]])\n",
    "# tensor"
   ]
  },
  {
   "cell_type": "code",
   "execution_count": 24,
   "id": "e0141ee9-8f93-4dfb-b845-db325c8025ff",
   "metadata": {},
   "outputs": [],
   "source": [
    "# ones=torch.ones(3,4)\n",
    "# ones"
   ]
  },
  {
   "cell_type": "code",
   "execution_count": 25,
   "id": "a98f607d-2aa1-4516-83ca-661d839c4a6e",
   "metadata": {},
   "outputs": [],
   "source": [
    "# zeros=torch.zeros(2,3)\n",
    "# zeros"
   ]
  },
  {
   "cell_type": "code",
   "execution_count": 26,
   "id": "6b1752d2-b08f-47bc-85d1-e1c61ea452b9",
   "metadata": {},
   "outputs": [],
   "source": [
    "# input=torch.empty(2,3)\n",
    "# input"
   ]
  },
  {
   "cell_type": "code",
   "execution_count": 27,
   "id": "6ad245d4-fcf3-4a7f-9b08-f2f8e23195e1",
   "metadata": {},
   "outputs": [],
   "source": [
    "# arange=torch.arange(10)\n",
    "# arange"
   ]
  },
  {
   "cell_type": "code",
   "execution_count": 28,
   "id": "d81ce3f6-b46d-422f-8a09-854e82360632",
   "metadata": {},
   "outputs": [],
   "source": [
    "# linspace=torch.linspace(3,10,steps=5)\n",
    "# linspace"
   ]
  },
  {
   "cell_type": "code",
   "execution_count": 29,
   "id": "3dc32110-0a02-44a5-ad69-4696e1493dc4",
   "metadata": {},
   "outputs": [],
   "source": [
    "# logspace=torch.logspace(start=-10,end=10,steps=5)\n",
    "# logspace"
   ]
  },
  {
   "cell_type": "code",
   "execution_count": 30,
   "id": "f81fe4b9-be07-4be1-9267-c49ec70163e4",
   "metadata": {},
   "outputs": [],
   "source": [
    "# eye=torch.eye(5)\n",
    "# eye\n",
    "# # reduced echelon form "
   ]
  },
  {
   "cell_type": "code",
   "execution_count": 31,
   "id": "c97876df-c6f4-41c4-a168-6c92163db886",
   "metadata": {},
   "outputs": [],
   "source": [
    "# a=torch.empty((2,3),dtype=torch.int64)\n",
    "# empty_like=torch.empty_like(a)\n",
    "# empty_like"
   ]
  },
  {
   "cell_type": "code",
   "execution_count": null,
   "id": "ff2e43e1-ca51-4b5a-b7df-75ba6cfc8b0a",
   "metadata": {},
   "outputs": [],
   "source": []
  }
 ],
 "metadata": {
  "kernelspec": {
   "display_name": "cuda-gpt",
   "language": "python",
   "name": "cuda"
  },
  "language_info": {
   "codemirror_mode": {
    "name": "ipython",
    "version": 3
   },
   "file_extension": ".py",
   "mimetype": "text/x-python",
   "name": "python",
   "nbconvert_exporter": "python",
   "pygments_lexer": "ipython3",
   "version": "3.9.13"
  }
 },
 "nbformat": 4,
 "nbformat_minor": 5
}
